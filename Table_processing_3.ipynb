{
  "metadata": {
    "kernelspec": {
      "name": "python",
      "display_name": "Python (Pyodide)",
      "language": "python"
    },
    "language_info": {
      "codemirror_mode": {
        "name": "python",
        "version": 3
      },
      "file_extension": ".py",
      "mimetype": "text/x-python",
      "name": "python",
      "nbconvert_exporter": "python",
      "pygments_lexer": "ipython3",
      "version": "3.8"
    }
  },
  "nbformat_minor": 4,
  "nbformat": 4,
  "cells": [
    {
      "cell_type": "code",
      "source": "Третий практикум. Работа с файлами формата csv/txt/pickle. Выполнил Щеглов Антон ТРПО24-2",
      "metadata": {
        "trusted": true
      },
      "outputs": [],
      "execution_count": null
    },
    {
      "cell_type": "code",
      "source": "def load_table(name_table = 'File_1_1.csv', mode = input('Введите один из трёх форматов(csv/txt/pickle): ') ):\n    '''\n    The function loads files of the csv/txt/pickle format and converts them into a dictionary of the form key - column name, value - column content. Also checks the input values, raising messages if something is wrong\n    Arguments:\n    name_table - file name, mode - file format\n\n    Return:\n    dictionary of the form key - column name, value - column content\n\n    Raises:\n    IOError: handles the error \"No access to the file\"\n    UnicodeDecodeError: handles the error \"Decoding violation\", if the file was damaged.\n    '''\n    list_table = []\n    dist_table = {}\n    if mode == 'csv':\n        try:\n            with open(name_table) as table:\n                reader = csv.reader(table, delimiter=';')\n                header = next(reader)\n                strings = [el for el in reader]\n                result_list = []\n                for col in range(len(header)):\n                    row = []\n                    for ln in range(len(strings)):\n                        row.append(strings[ln][col])\n                    result_list.append(row)\n                dict_table = {header[num]:result_list[num] for num in range(len(header))}\n        except IOError:\n            return 'Нет доступа к файлу'\n        except UnicodeDecodeError:\n            return 'Файл повреждён'\n    if mode == 'txt':\n        try:\n            with open(name_table, encoding='utf-8') as table:\n                header = table.readline().rstrip().split(' ')\n                strings = [str_n.rstrip().split(' ') for str_n in table.readlines()]\n                result_list = []\n                for col in range(len(header)):\n                    row = []\n                    for ln in range(len(strings)):\n                        row.append(strings[ln][col])\n                    result_list.append(row)\n                dict_table = {header[num]:result_list[num] for num in range(len(header))}\n        except IOError:\n            return 'Нет доступа к файлу'\n        except UnicodeDecodeError:\n            return 'Файл повреждён'\n    if mode == 'pickle':\n        try:\n            with open(name_table, 'rb') as file:\n                dict_table = pickle.load(file)\n        except IOError:\n            return 'Нет доступа к файлу'\n        except UnicodeDecodeError:\n            return 'Файл повреждён'\n\n    return dict_table",
      "metadata": {
        "trusted": true
      },
      "outputs": [],
      "execution_count": null
    },
    {
      "cell_type": "code",
      "source": "def save_table(dict_table):\n    '''\n    Documentation for the Function:\n\n    The function saves a dictionary as a CSV file where the keys of the dictionary represent column names and the values represent the content of each column.\n\n    Arguments:\n    - dict_table: A dictionary where keys are column names and values are the corresponding column contents.\n\n    Return:\n    - This function does not return any value. It saves the content to a CSV file named File_1.csv.\n\n    Raises:\n    - IOError: Handles the error if there is an issue with file access or saving the file.\n    '''\n    key = (dict_table.keys())\n    val = (dict_table.values()) \n    #print(key,val)\n    with open('File_1.csv', 'w+', newline='') as table:\n        writer = csv.writer(table, delimiter=';')\n        writer.writerows(val)",
      "metadata": {
        "trusted": true
      },
      "outputs": [],
      "execution_count": null
    },
    {
      "cell_type": "code",
      "source": "start = int(input('Введите индекс строки, с которой вы хотите начать вывод: '))\n    stop = int(input('Введите индекс строки, до которой вы хотите вывести (включая): '))\n    dict_table = load_table()\n    def get_rows_by_number(dict_table, start, stop,copy = bool(input('Введите True, если вы хотите создать копию, False, если не хотите: '))):\n        list_result = []\n        ''' \n        The function retrieves a specific range of rows from a dictionary-based table, allowing the user to specify the starting and stopping indices. It provides the option to return a deep copy of the results or a direct reference to the original data.\n\n        Arguments:\n        - dict_table: A dictionary where keys represent column names and values are lists containing the corresponding column data.\n        - start: An integer representing the starting index of the rows to be retrieved (inclusive).\n        - stop: An integer representing the ending index of the rows to be retrieved (inclusive).\n        - copy: A boolean value indicating whether to create a deep copy of the resulting rows (True) or return a reference to the original data (False). The default value is set based on user input.\n        \n        Return:\n        - A list of rows corresponding to the specified indices. If copy is True, the returned list will be a deep copy; if False, it will reference the original data directly.\n        \n        Raises:\n        - IndexError: Returns a message if the provided column index is invalid or out of range.\n        '''\n        try:\n            for ind in range(start,stop+1):\n                for el in dict_table.values():\n                    list_result.append([el[ind]])\n            if copy:\n                import copy\n                return copy.deepcopy(list_result)\n            else:\n                return list_result\n        except:\n            return 'Неверно введины start/stop'",
      "metadata": {
        "trusted": true
      },
      "outputs": [],
      "execution_count": null
    },
    {
      "cell_type": "code",
      "source": "    def get_rows_by_index(ind_list,dict_table = load_table(),copy_table = bool(input('Введите True, если вы хотите сделать копию таблицы, False, если не хотите: '))):\n        '''\n        The function retrieves specific rows from a dictionary-based table based on user-defined indices. It allows the user to decide whether to return a deep copy of the selected rows or a reference to the original list.\n\n        Arguments:\n        - ind_list: A list of integers representing the indices of the rows to be retrieved.\n        - dict_table: A dictionary loaded from a data source, where keys are column names and values are lists containing corresponding column data. Default is the output from the load_table() function.\n        - copy_table: A boolean value indicating whether to create a deep copy of the result (True) or return a reference to the original data (False). It is set based on user input.\n\n        Return:\n        - A list containing the selected rows. If copy_table is True, this list will be a deep copy; if False, it will reference the original data directly.\n\n        Raises:\n        - IndexError: Returns a message if the provided column index is invalid or out of range.\n        '''\n        list_table = []\n        try:    \n            for ind in ind_list:\n                for el in dict_table.values():\n                    list_table.append(el[ind])\n    \n            if copy_table:\n                import copy\n                return copy.deepcopy(list_table)\n            else:\n                return list_table\n        except:\n            return 'Неверно введены индексы строки'",
      "metadata": {
        "trusted": true
      },
      "outputs": [],
      "execution_count": null
    },
    {
      "cell_type": "code",
      "source": "    def get_column_types(dict_table = load_table(),number = int(input('Введите индекс столбца, тип данных которого вы хотите вывести, если всех столбцов введите 100: '))):\n        '''\n        The function retrieves the data types of columns in a table based on a dictionary. It allows the user to specify a column index to get the type of that specific column, or to retrieve the types for all columns by entering a specific value.\n\n        Arguments:\n        - dict_table: A dictionary loaded from the data source, where the keys are the column names and the values ​​are lists containing the corresponding column data. By default, this is the output of the load_table() function.\n        - number: An integer representing the index of the column whose data type you want to retrieve. If you want the types for all columns, enter 100.\n\n        Returns:\n        - A dictionary where the keys are the column names and the values ​​are the data types of all the elements in each column's data. If number is 100, the function returns the data types of all columns. If a specific index is specified, it returns the data type of that specific column.\n\n        Raises:\n        - IndexError: Returns a message if the provided column index is invalid or out of range.\n        '''\n        dict_result = {}\n        try:\n            if number == 100:\n                for key in dict_table:\n                    dict_result[key] = type(dict_table[key][0])\n                return dict_result\n            else:\n                dict_result[list(dict_table.keys())[number]] = type(dict_table[list(dict_table.keys())[number]][0])\n                return dict_result\n        except:\n            return 'неверно введён индекс столбца'",
      "metadata": {
        "trusted": true
      },
      "outputs": [],
      "execution_count": null
    },
    {
      "cell_type": "code",
      "source": "    def set_column_types(types,dict_table = load_table(),ind = int(input('Введите индекс столбца: '))):\n        '''\n        The function sets the data types for a specific column in a dictionary-based table. It allows users to specify the desired type and applies it to the entire column based on the given index.\n\n        Arguments:\n        - types: A type or a function representing the desired data type to be applied to the elements of the specified column.\n        - dict_table: A dictionary loaded from a data source, where keys are column names and values are lists containing corresponding column data. Default is the output from the load_table() function.\n        - ind: An integer representing the index of the column where the data type should be set.\n\n        Return:\n        - This function does not return a value. It modifies the original dict_table in place by converting the data type of the specified column.\n\n        Raises:\n        - ValueError: Returns a message if the specified type is not suitable for the elements in the column.\n        - IndexError: Returns a message if the provided column index is invalid or out of range.``\n        '''\n        try:\n            dict_table[list(dict_table.keys())[ind]] = list(map(types,dict_table[list(dict_table.keys())[ind]]))\n        except ValueError:\n            return 'Этот тип не подходит этому столбцу '\n        except IndexError:\n            return 'Неверно введён индекс столбца'",
      "metadata": {
        "trusted": true
      },
      "outputs": [],
      "execution_count": null
    },
    {
      "cell_type": "code",
      "source": "    def get_values(ind = int(input('Введите индекс столбца: ')),dict_table = load_table()):\n        '''\n        The function retrieves the values of a specific column from a dictionary-based table based on the provided column index.\n\n        Arguments:\n        - ind: An integer representing the index of the column whose values you want to retrieve. The function prompts the user for this value.\n        - dict_table: A dictionary loaded from a data source, where keys are column names and values are lists containing the corresponding column data. The default is the output from the load_table() function.\n\n        Return:\n        - A list containing the values of the specified column. If the provided index is valid, it returns the corresponding column values.\n\n        Raises:\n        - IndexError: Returns a message if the provided column index is invalid or out of range, indicating that the input was incorrect.\n        '''\n        try:\n            return dict_table[list(dict_table.keys())[ind]]\n        except IndexError:\n            return 'Неверно ввелён нидекс столбца'",
      "metadata": {
        "trusted": true
      },
      "outputs": [],
      "execution_count": null
    },
    {
      "cell_type": "code",
      "source": "    def get_value(string = int(input('Введите индекс строки: ')), column= int(input('Введите индекс столба: ')),dict_table = load_table()):\n        '''\n        The function retrieves a specific value from a dictionary-based table by specifying the row and column indices.\n\n        Arguments:\n        - string: An integer representing the index of the row from which to retrieve the value. The function prompts the user for this value.\n        - column: An integer representing the index of the column from which to retrieve the value. The function prompts the user for this value.\n        - dict_table: A dictionary loaded from a data source, where keys are column names and values are lists containing the corresponding column data. The default is the output from the load_table() function.\n\n        Return:\n        - The function returns the value located at the specified row (string) and column (column) indices. If the provided indices are valid, it returns the corresponding value from the table.\n\n        Raises:\n        - IndexError: Returns a message if the provided row or column indices are invalid or out of range, indicating that the input was incorrect.\n        '''\n        try:\n            return dict_table[list(dict_table.keys())[column]][string]\n        except IndexError:\n            return 'Неверно введён индекс'",
      "metadata": {
        "trusted": true
      },
      "outputs": [],
      "execution_count": null
    },
    {
      "cell_type": "code",
      "source": "    def set_values(values = [input('Введите значение столбца: ') for n in range(4)],ind = int(input('Введите индекс столбца: ')), dict_table = load_table()):\n        '''\n        The function updates the values of a specific column in a dictionary-based table. It allows users to input new values for the specified column index.\n\n        Arguments:\n        - values: A list of values to set for the specified column. The default value is generated by prompting the user to enter values for four entries.\n        - ind: An integer representing the index of the column to be updated. The function prompts the user for this value.\n        - dict_table: A dictionary loaded from a data source, where keys are column names and values are lists containing the corresponding column data. The default is the output from the load_table() function.\n\n        Return:\n        - The function returns the updated dict_table, with the specified column values replaced by the new values.\n\n        Raises:\n        - IndexError: Returns a message if the provided column index is invalid or out of range, indicating that the input was incorrect.\n        '''\n        try:\n            dict_table[list(dict_table.keys())[ind]] = values\n            return dict_table\n        except IndexError:\n            return 'Неверно введён индекс'",
      "metadata": {
        "trusted": true
      },
      "outputs": [],
      "execution_count": null
    },
    {
      "cell_type": "code",
      "source": "    def set_value(value = input('Введите значение, которое вы хотите ввести: '), string = int(input('Введите индекс строки: ')), column= int(input('Введите индекс столба: ')),dict_table = load_table()):\n        '''\n        The function updates a specific value in a dictionary-based table by specifying the row and column indices. It allows the user to input a new value for that specific cell in the table.\n\n        Arguments:\n        - value: The value to be set in the specified cell. The default value is obtained by prompting the user for input.\n        - string: An integer representing the index of the row where the value will be placed. The function prompts the user for this value.\n        - column: An integer representing the index of the column where the value will be placed. The function prompts the user for this value.\n        - dict_table: A dictionary loaded from a data source, where keys are column names and values are lists containing the corresponding column data. The default is the output from the load_table() function.\n\n        Return:\n        - The function returns the updated dict_table with the specified value inserted at the given cell (row, column).\n\n        Raises:\n        - IndexError: Returns a message if the provided row or column indices are invalid or out of range, indicating that the input was incorrect.\n        '''\n        try:\n            dict_table[list(dict_table.keys())[column]][string] = value\n            return dict_table\n        except IndexError:\n            return 'Неверно введён индекс'",
      "metadata": {
        "trusted": true
      },
      "outputs": [],
      "execution_count": null
    },
    {
      "cell_type": "code",
      "source": "    def print_table(dict_table = load_table()):\n        '''\n        Documentation for the Function:\n\n        The function prints the contents of a dictionary-based table to the console. It displays the column names followed by the corresponding values for each row.\n\n        Arguments:\n        - dict_table: A dictionary loaded from a data source, where keys are column names and values are lists containing the corresponding column data. The default is the output from the load_table() function.\n\n        Return:\n        - The function does not return any value. It prints the column names and their corresponding values directly to the console.\n\n        Raises:\n        - The function does not explicitly raise exceptions but will print an error message if there is an issue with the table loaded from load_table().\n        '''\n        try:\n            print(*dict_table.keys())\n            for string in dict_table.values():\n                print(*string)\n            return ''\n        except:\n            'Ошибка с таблицей в функции load_table'",
      "metadata": {
        "trusted": true
      },
      "outputs": [],
      "execution_count": null
    }
  ]
}